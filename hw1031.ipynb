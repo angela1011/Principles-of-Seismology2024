{
 "cells": [
  {
   "cell_type": "code",
   "execution_count": 17,
   "id": "f3156038-451b-44ba-aad8-6760b5ced1be",
   "metadata": {},
   "outputs": [
    {
     "name": "stdin",
     "output_type": "stream",
     "text": [
      "輸入一个年份： 2014\n"
     ]
    },
    {
     "name": "stdout",
     "output_type": "stream",
     "text": [
      "2014年不是閏年\n"
     ]
    }
   ],
   "source": [
    "#A(1) 檢查yr是否是閏年\n",
    "#year=2014\n",
    "year=int(input(\"輸入一个年份：\"))\n",
    "if (year%4==0) and (year%100 !=0) or (year%400)==0:\n",
    "    print(\"{}年是閏年\".format(year))\n",
    "else:\n",
    "    print(\"{}年不是閏年\".format(year))"
   ]
  },
  {
   "cell_type": "code",
   "execution_count": 19,
   "id": "679e6151-95d9-43b1-bca6-4a2080a90b17",
   "metadata": {},
   "outputs": [
    {
     "name": "stdout",
     "output_type": "stream",
     "text": [
      "[1, 2, 3, 4, 5, 6, 7, 8, 9]\n"
     ]
    }
   ],
   "source": [
    "#A(2) 去除重複\n",
    "nums=[1,1,1,2,2,3,4,5,6,6,7,8,9,9]\n",
    "print(list(set(nums)))"
   ]
  },
  {
   "cell_type": "code",
   "execution_count": 24,
   "id": "0b453583-2a1b-4d3f-a23b-b875d0e9afd6",
   "metadata": {},
   "outputs": [
    {
     "name": "stdout",
     "output_type": "stream",
     "text": [
      "[1, 2, 3, 4, 5, 7, 9, 10]\n",
      "[10, 9, 7, 5, 4, 3, 2, 1]\n"
     ]
    }
   ],
   "source": [
    "#A(3) 升序和降序\n",
    "x=[10, 5, 1, 4, 2, 7, 9,3]\n",
    "x.sort()\n",
    "print(x)\n",
    "\n",
    "xsorted = sorted( x, reverse=True)\n",
    "print(xsorted)"
   ]
  },
  {
   "cell_type": "code",
   "execution_count": 28,
   "id": "cc212170-d000-45f1-953a-291a0d6782ae",
   "metadata": {},
   "outputs": [
    {
     "name": "stdout",
     "output_type": "stream",
     "text": [
      "{'Mary', 'John', 'Tom'}\n"
     ]
    }
   ],
   "source": [
    "#B 利用Python的Set和Dict\n",
    "Mathematics = {'Tom', 'John', 'Mary', 'Jimmy', 'Sunny', 'Amy', 'Chris'}\n",
    "English = {'John', 'Mary', 'Tony', 'Bob', 'Pony', 'Tom', 'Alice'}"
   ]
  },
  {
   "cell_type": "code",
   "execution_count": 33,
   "id": "a11f80fd-25ed-4bcf-b028-2a2bba176910",
   "metadata": {},
   "outputs": [
    {
     "name": "stdout",
     "output_type": "stream",
     "text": [
      "{'Amy', 'Jimmy', 'Chris', 'Sunny'}\n",
      "{'Mary', 'John', 'Tom'}\n",
      "11\n"
     ]
    }
   ],
   "source": [
    "#數學考試通過但英文考試未通過\n",
    "print( Mathematics - English )\n",
    "\n",
    "#通過兩次考試\n",
    "print( Mathematics & English )\n",
    "\n",
    "#班級學生總數\n",
    "print(len( Mathematics | English ))"
   ]
  },
  {
   "cell_type": "code",
   "execution_count": 46,
   "id": "9767c3ce-fade-41e1-afdb-004eb4024d01",
   "metadata": {},
   "outputs": [
    {
     "name": "stdout",
     "output_type": "stream",
     "text": [
      "90 86.6 88.33333333333333\n"
     ]
    }
   ],
   "source": [
    "#a 使用dict和list來儲存兩位學生的作業成績\n",
    "#b 計算作業成績的平均值。\n",
    "\n",
    "import statistics\n",
    "\n",
    "Amy = {80, 100, 90, 95, 85}\n",
    "Tony = {100, 93, 75, 80, 85}\n",
    "\n",
    "mean1 = statistics.mean(Amy)\n",
    "mean2 = statistics.mean(Tony)\n",
    "mean3 = statistics.mean(Amy & Tony)\n",
    "\n",
    "print(mean1, mean2, mean3)"
   ]
  },
  {
   "cell_type": "code",
   "execution_count": null,
   "id": "a7efcd19-2f4b-4b9f-a464-0c9c7a1c51ab",
   "metadata": {},
   "outputs": [],
   "source": [
    "\n"
   ]
  }
 ],
 "metadata": {
  "kernelspec": {
   "display_name": "py3.9",
   "language": "python",
   "name": "py3.9"
  },
  "language_info": {
   "codemirror_mode": {
    "name": "ipython",
    "version": 3
   },
   "file_extension": ".py",
   "mimetype": "text/x-python",
   "name": "python",
   "nbconvert_exporter": "python",
   "pygments_lexer": "ipython3",
   "version": "3.9.18"
  }
 },
 "nbformat": 4,
 "nbformat_minor": 5
}
