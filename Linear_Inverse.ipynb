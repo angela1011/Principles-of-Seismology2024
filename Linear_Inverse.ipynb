{
 "cells": [
  {
   "cell_type": "code",
   "execution_count": 1,
   "metadata": {},
   "outputs": [],
   "source": [
    "import numpy as np\n",
    "from numpy.linalg import inv\n",
    "from numpy.linalg import det"
   ]
  },
  {
   "cell_type": "code",
   "execution_count": 2,
   "metadata": {},
   "outputs": [
    {
     "name": "stdout",
     "output_type": "stream",
     "text": [
      "[[0.78291234]\n",
      " [0.19116109]\n",
      " [0.37641046]\n",
      " [0.36871088]]\n",
      "0.4297986908075753\n",
      "6.583333333333333\n",
      "[[4.76336257]\n",
      " [3.89235327]\n",
      " [9.29633905]\n",
      " [7.32468239]\n",
      " [5.65585203]\n",
      " [8.57067554]]\n"
     ]
    }
   ],
   "source": [
    "G = np.array([[4.27,7.43,0,0],[0,6.32,0,7.28],[5.57,0,5.07,8.21],\n",
    "              [4.47,0,4.03,6.26],[0,4.47,7.28,5.59],[7.11,2.05,6.94,0]])\n",
    "d = np.array([[5],[18/5],[47/5],[37/5],[29/5],[83/10]])\n",
    "GT = np.transpose(G)\n",
    "GTG = GT.dot(G)\n",
    "GTG_inv = inv(GTG)\n",
    "GTd = GT.dot(d)\n",
    "m=GTG_inv.dot(GTd)\n",
    "print(m)\n",
    "print(np.mean(m))\n",
    "print(np.mean(d))\n",
    "d1=G.dot(m)\n",
    "print(d1)"
   ]
  },
  {
   "cell_type": "code",
   "execution_count": 3,
   "metadata": {},
   "outputs": [
    {
     "name": "stdout",
     "output_type": "stream",
     "text": [
      "[[ 0.23663743]\n",
      " [-0.29235327]\n",
      " [ 0.10366095]\n",
      " [ 0.07531761]\n",
      " [ 0.14414797]\n",
      " [-0.27067554]]\n",
      "-0.0005441406689256448\n",
      "[[0.25192993]]\n"
     ]
    }
   ],
   "source": [
    "e = d-d1\n",
    "eT = np.transpose(e)\n",
    "print(e)\n",
    "print(np.mean(e))\n",
    "print(eT.dot(e))"
   ]
  },
  {
   "cell_type": "code",
   "execution_count": 32,
   "metadata": {},
   "outputs": [
    {
     "name": "stdout",
     "output_type": "stream",
     "text": [
      "[[5.02864468]\n",
      " [5.84526219]\n",
      " [8.10170532]\n",
      " [6.34382868]\n",
      " [7.4527093 ]\n",
      " [6.91975892]]\n",
      "[[-0.02864468]\n",
      " [-2.24526219]\n",
      " [ 1.29829468]\n",
      " [ 1.05617132]\n",
      " [-1.6527093 ]\n",
      " [ 1.38024108]]\n",
      "6.615318182679931\n"
     ]
    }
   ],
   "source": [
    "m0= np.array([[0.4297986908075753],[0.4297986908075753],[0.4297986908075753],[0.4297986908075753]])\n",
    "d0=G.dot(m0)\n",
    "print(d0)\n",
    "pd = d-d0\n",
    "print(pd)"
   ]
  },
  {
   "cell_type": "code",
   "execution_count": 5,
   "metadata": {},
   "outputs": [
    {
     "name": "stdout",
     "output_type": "stream",
     "text": [
      "[[ 0.35311364]\n",
      " [-0.2386376 ]\n",
      " [-0.05338823]\n",
      " [-0.06108781]]\n"
     ]
    }
   ],
   "source": [
    "pm=GTG_inv.dot(GT.dot(pd))\n",
    "print(pm)"
   ]
  },
  {
   "cell_type": "code",
   "execution_count": 67,
   "metadata": {},
   "outputs": [
    {
     "data": {
      "text/plain": [
       "[array([[0.78281472],\n",
       "        [0.19117201],\n",
       "        [0.37645308],\n",
       "        [0.36870118]]),\n",
       " array([[0.01604937],\n",
       "        [0.00988774],\n",
       "        [0.01709797],\n",
       "        [0.01750632]]),\n",
       " array([[0.00066232],\n",
       "        [0.00041071],\n",
       "        [0.00070818],\n",
       "        [0.00072734]]),\n",
       " array([[0.00016574],\n",
       "        [0.0001028 ],\n",
       "        [0.00017724],\n",
       "        [0.00018205]])]"
      ]
     },
     "execution_count": 67,
     "metadata": {},
     "output_type": "execute_result"
    }
   ],
   "source": [
    "#ep = [\"0.1\",\"100\",\"500\",\"1000\"]\n",
    "mest_all=[]\n",
    "ep_all=[]\n",
    "for i in [0.1,100,500,1000]:\n",
    "    ep = np.eye(4)*[(i)**2]\n",
    "    mest = inv(GTG + ep).dot(GTd)\n",
    "    ep_all.append(ep)\n",
    "    mest_all.append(mest)\n",
    "mest_all"
   ]
  },
  {
   "cell_type": "code",
   "execution_count": 49,
   "metadata": {},
   "outputs": [
    {
     "name": "stdout",
     "output_type": "stream",
     "text": [
      "[array([[0.2612012]]), array([[9271.5202609]]), array([[231781.96020416]]), array([[927127.08502686]])]\n"
     ]
    }
   ],
   "source": [
    "y_all=[]\n",
    "for i in [0.1,100,500,1000]:\n",
    "    y = eT.dot(e)+[(i)**2]*np.transpose(m).dot(m)\n",
    "    y_all.append(y)\n",
    "print(y_all)   "
   ]
  },
  {
   "cell_type": "code",
   "execution_count": 80,
   "metadata": {},
   "outputs": [
    {
     "data": {
      "image/png": "[encoded data removed]",
      "text/plain": [
       "<Figure size 432x288 with 1 Axes>"
      ]
     },
     "metadata": {
      "needs_background": "light"
     },
     "output_type": "display_data"
    }
   ],
   "source": [
    "import matplotlib.pyplot as plt\n",
    "import numpy as np\n",
    "\n",
    "x= [0.78281472,0.19117201,0.37645308,0.36870118,0.01604937,0.00988774,0.01709797,0.01750632,0.00066232,0.00041071,0.00070818,0.00072734,0.00016574,0.0001028,0.00017724,0.00018205]\n",
    "y= [0.1,0.1,0.1,0.1,100,100,100,100,500,500,500,500,1000,1000,1000,1000]\n",
    "plt.plot(y,x,'b-o')\n",
    "plt.savefig('fig1.png')\n",
    "plt.show()"
   ]
  },
  {
   "cell_type": "code",
   "execution_count": 81,
   "metadata": {},
   "outputs": [
    {
     "name": "stdout",
     "output_type": "stream",
     "text": [
      "[[0.78281472]\n",
      " [0.19117201]\n",
      " [0.37645308]\n",
      " [0.36870118]]\n",
      "[[0.01604937]\n",
      " [0.00988774]\n",
      " [0.01709797]\n",
      " [0.01750632]]\n",
      "[[0.00066232]\n",
      " [0.00041071]\n",
      " [0.00070818]\n",
      " [0.00072734]]\n",
      "[[0.00016574]\n",
      " [0.0001028 ]\n",
      " [0.00017724]\n",
      " [0.00018205]]\n"
     ]
    }
   ],
   "source": [
    "ep1 = np.eye(4)*[(0.1)**2]\n",
    "mest1 = inv(GTG + ep1).dot(GTd)\n",
    "print(mest1)\n",
    "ep2 = np.eye(4)*[(100)**2]\n",
    "mest2 = inv(GTG + ep2).dot(GTd)\n",
    "print(mest2)\n",
    "ep3 = np.eye(4)*[(500)**2]\n",
    "mest3 = inv(GTG + ep3).dot(GTd)\n",
    "print(mest3)\n",
    "ep4 = np.eye(4)*[(1000)**2]\n",
    "mest4 = inv(GTG + ep4).dot(GTd)\n",
    "print(mest4)"
   ]
  },
  {
   "cell_type": "code",
   "execution_count": 7,
   "metadata": {},
   "outputs": [
    {
     "data": {
      "text/plain": [
       "\"\\n#def getMArtixCofactor(mm,i,j):\\n#    c = mm[:]\\n#    c_r = np.delete(c,(i),axis=0)\\n#    c_c = np.delete(c_r,(j),axis=1)\\n#    return(-1**(i+j))*det(c_c)\\n#sta = [6,14],[17,3],[3,4]\\n#env = [17,18],[13,16],[1,13],[13,1],[19,12],[11,18]\\n#tt = [5],[18/5],[47/5],[37/5],[29/5],[83/5]\\n#[4,11],[4,14],[10,16],[7,13],[8,16],[8,14]\\n#x1, y1 = 10,16.2\\n#x2, y2 = 11,18 \\n#distance = np.sqrt((x2 - x1)**2 + (y2 - y1)**2)\\n#print(distance)\\n#GTG_det = det(GTG)\\n#GTG_inv = inv(GTG)\\n#m1=1/GTG_inv.dot(GTd)\\n#for i in range(4):\\n#    for j in range(4):\\n#        GTG_adj[j,i]=getMArtixCofactor(GTG,i,j)\\n#ep1 = np.eye(4)*[(0.1)**2]\\n#mest1 = inv(GTG + ep1).dot(GTd)\\n#print(mest1)\\n#ep2 = np.eye(4)*[(100)**2]\\n#mest2 = inv(GTG + ep2).dot(GTd)\\n#print(mest2)\\n#ep3 = np.eye(4)*[(500)**2]\\n#mest3 = inv(GTG + ep3).dot(GTd)\\n#print(mest3)\\nep4 = np.eye(4)*[(1000)**2]\\nmest4 = inv(GTG + ep4).dot(GTd)\\nprint(mest4)\\nimport matplotlib.pyplot as plt\\nimport numpy as np\\n#plt.plot(ep1, mest1, 'b-o') \\n#plt.savefig('fig1.png')\\n#plt.show()\\n\\n#np.plt(ep4, mest4)\\n\""
      ]
     },
     "execution_count": 7,
     "metadata": {},
     "output_type": "execute_result"
    }
   ],
   "source": [
    "'''\n",
    "#def getMArtixCofactor(mm,i,j):\n",
    "#    c = mm[:]\n",
    "#    c_r = np.delete(c,(i),axis=0)\n",
    "#    c_c = np.delete(c_r,(j),axis=1)\n",
    "#    return(-1**(i+j))*det(c_c)\n",
    "#sta = [6,14],[17,3],[3,4]\n",
    "#env = [17,18],[13,16],[1,13],[13,1],[19,12],[11,18]\n",
    "#tt = [5],[18/5],[47/5],[37/5],[29/5],[83/5]\n",
    "#[4,11],[4,14],[10,16],[7,13],[8,16],[8,14]\n",
    "#x1, y1 = 10,16.2\n",
    "#x2, y2 = 11,18 \n",
    "#distance = np.sqrt((x2 - x1)**2 + (y2 - y1)**2)\n",
    "#print(distance)\n",
    "#GTG_det = det(GTG)\n",
    "#GTG_inv = inv(GTG)\n",
    "#m1=1/GTG_inv.dot(GTd)\n",
    "#for i in range(4):\n",
    "#    for j in range(4):\n",
    "#        GTG_adj[j,i]=getMArtixCofactor(GTG,i,j)\n",
    "ep1 = np.eye(4)*[(0.1)**2]\n",
    "mest1 = inv(GTG + ep1).dot(GTd)\n",
    "print(mest1)\n",
    "ep2 = np.eye(4)*[(100)**2]\n",
    "mest2 = inv(GTG + ep2).dot(GTd)\n",
    "print(mest2)\n",
    "ep3 = np.eye(4)*[(500)**2]\n",
    "mest3 = inv(GTG + ep3).dot(GTd)\n",
    "print(mest3)\n",
    "ep4 = np.eye(4)*[(1000)**2]\n",
    "mest4 = inv(GTG + ep4).dot(GTd)\n",
    "print(mest4)\n",
    "#import matplotlib.pyplot as plt\n",
    "#import numpy as np\n",
    "#plt.plot(ep1, mest1, 'b-o') \n",
    "#plt.savefig('fig1.png')\n",
    "#plt.show()\n",
    "#np.plt(ep4, mest4)\n",
    "'''"
   ]
  },
  {
   "cell_type": "markdown",
   "metadata": {},
   "source": []
  },
  {
   "cell_type": "code",
   "execution_count": null,
   "metadata": {},
   "outputs": [],
   "source": []
  }
 ],
 "metadata": {
  "kernelspec": {
   "display_name": "Python 3",
   "language": "python",
   "name": "python3"
  },
  "language_info": {
   "codemirror_mode": {
    "name": "ipython",
    "version": 3
   },
   "file_extension": ".py",
   "mimetype": "text/x-python",
   "name": "python",
   "nbconvert_exporter": "python",
   "pygments_lexer": "ipython3",
   "version": "3.8.3"
  }
 },
 "nbformat": 4,
 "nbformat_minor": 4
}
