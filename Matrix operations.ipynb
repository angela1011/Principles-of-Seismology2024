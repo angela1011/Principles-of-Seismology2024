{
 "cells": [
  {
   "cell_type": "code",
   "execution_count": 1,
   "id": "826dc4ea",
   "metadata": {},
   "outputs": [],
   "source": [
    "import numpy as np\n",
    "import matplotlib.pyplot as plt"
   ]
  },
  {
   "cell_type": "code",
   "execution_count": 2,
   "id": "ba2d0b55",
   "metadata": {},
   "outputs": [
    {
     "name": "stdout",
     "output_type": "stream",
     "text": [
      "A = \n",
      "[[0 1]\n",
      " [2 3]\n",
      " [4 5]] \n",
      "\n",
      "B = \n",
      "[[ 6  7]\n",
      " [ 8  9]\n",
      " [10 11]] \n",
      "\n",
      "A + B = \n",
      "[[ 6  8]\n",
      " [10 12]\n",
      " [14 16]] \n",
      "\n",
      "A - B = \n",
      "[[6 6]\n",
      " [6 6]\n",
      " [6 6]] \n",
      "\n",
      "3 * A = \n",
      "[[ 0  3]\n",
      " [ 6  9]\n",
      " [12 15]] \n",
      "\n",
      "A / 2 = \n",
      "[[0.  0.5]\n",
      " [1.  1.5]\n",
      " [2.  2.5]] \n",
      "\n"
     ]
    }
   ],
   "source": [
    "##+ - * /\n",
    "import random\n",
    "A=np.arange(6).reshape(3,2)\n",
    "print('A = ');print(A,'\\n')\n",
    "B=np.arange(6,12).reshape(3,2)\n",
    "print('B = ');print(B,'\\n')\n",
    "C=A+B\n",
    "print('A + B = ');print(C,'\\n')\n",
    "D=B-A\n",
    "print('A - B = ');print(D,'\\n')\n",
    "E=3*A\n",
    "print('3 * A = ');print(E,'\\n')\n",
    "F=A/2\n",
    "print('A / 2 = ');print(F,'\\n')"
   ]
  },
  {
   "cell_type": "code",
   "execution_count": 3,
   "id": "a23f52a6",
   "metadata": {
    "scrolled": false
   },
   "outputs": [
    {
     "name": "stdout",
     "output_type": "stream",
     "text": [
      "A =\n",
      "[[0 1]\n",
      " [2 3]] \n",
      "\n",
      "B =\n",
      "[[4 5]\n",
      " [6 7]] \n",
      "\n",
      "C1 =\n",
      "[[ 6  7]\n",
      " [26 31]] \n",
      "\n",
      "C2 =\n",
      "[[10 19]\n",
      " [14 27]] \n",
      "\n",
      "D1 =\n",
      "[-4 -4] \n",
      "\n",
      "D2 =\n",
      "[4 4] \n",
      "\n"
     ]
    }
   ],
   "source": [
    "##dot & cross\n",
    "A=np.arange(4).reshape(2,2)\n",
    "B=np.arange(4,8).reshape(2,2)\n",
    "print('A =');print(A,'\\n')\n",
    "print('B =');print(B,'\\n')\n",
    "C1=np.dot(A,B)\n",
    "C2=np.dot(B,A)\n",
    "D1=np.cross(A,B)\n",
    "D2=np.cross(B,A)\n",
    "print('C1 =');print(C1,'\\n')\n",
    "print('C2 =');print(C2,'\\n')\n",
    "print('D1 =');print(D1,'\\n')\n",
    "print('D2 =');print(D2,'\\n')"
   ]
  },
  {
   "cell_type": "code",
   "execution_count": 4,
   "id": "95aeefa7",
   "metadata": {},
   "outputs": [
    {
     "name": "stdout",
     "output_type": "stream",
     "text": [
      "[[-2  7 10]]\n"
     ]
    }
   ],
   "source": [
    "t1=np.array([-2,-2,1]).reshape(1,3);t2=np.array([1,-4,3])\n",
    "print(np.cross(t1,t2))"
   ]
  },
  {
   "cell_type": "raw",
   "id": "873a2820",
   "metadata": {},
   "source": [
    "Example:\n",
    "3X1 + 2X2 +  X3 = 5 ;\n",
    " X1 + 2X2 + 3X3 = 8 ;\n",
    "4X1 + 5X2 + 7X3 = 7 "
   ]
  },
  {
   "cell_type": "code",
   "execution_count": 5,
   "id": "600a5aa2",
   "metadata": {
    "scrolled": false
   },
   "outputs": [
    {
     "name": "stdout",
     "output_type": "stream",
     "text": [
      "Matrix A :\n",
      "[[3 2 1]\n",
      " [1 2 3]\n",
      " [4 5 7]] \n",
      "\n",
      "Matrix y :\n",
      "[[5]\n",
      " [8]\n",
      " [7]] \n",
      "\n",
      "Inverse A :\n",
      "[[-0.25 -2.25  1.  ]\n",
      " [ 1.25  4.25 -2.  ]\n",
      " [-0.75 -1.75  1.  ]] \n",
      "\n",
      "Matrix I :\n",
      "[[ 1.00000000e+00  1.33226763e-15 -6.66133815e-16]\n",
      " [ 1.11022302e-16  1.00000000e+00 -2.22044605e-16]\n",
      " [ 1.11022302e-16  4.44089210e-16  1.00000000e+00]] \n",
      "\n",
      "Matrix x :\n",
      "[[-12.25]\n",
      " [ 26.25]\n",
      " [-10.75]] \n",
      "\n"
     ]
    }
   ],
   "source": [
    "## Solution\n",
    "A=np.array([[3,2,1],\n",
    "            [1,2,3],\n",
    "            [4,5,7]])\n",
    "y=np.array([[5],[8],[7]])\n",
    "print('Matrix A :');print(A,'\\n')\n",
    "print('Matrix y :');print(y,'\\n')\n",
    "inv_A=np.linalg.inv(A)\n",
    "print('Inverse A :');print(inv_A,'\\n')\n",
    "\n",
    "I=np.dot(A,inv_A)\n",
    "print('Matrix I :');print(I,'\\n')\n",
    "\n",
    "x=np.dot(inv_A,y)\n",
    "print('Matrix x :');print(x,'\\n')"
   ]
  },
  {
   "cell_type": "raw",
   "id": "f54e8e78",
   "metadata": {},
   "source": [
    "## Other important function \n",
    "https://numpy.org/devdocs/reference/routines.linalg.html\n",
    "np.linalg.det()\n",
    "np.linalg.pinv()"
   ]
  }
 ],
 "metadata": {
  "kernelspec": {
   "display_name": "Python 3 (ipykernel)",
   "language": "python",
   "name": "python3"
  },
  "language_info": {
   "codemirror_mode": {
    "name": "ipython",
    "version": 3
   },
   "file_extension": ".py",
   "mimetype": "text/x-python",
   "name": "python",
   "nbconvert_exporter": "python",
   "pygments_lexer": "ipython3",
   "version": "3.9.13"
  }
 },
 "nbformat": 4,
 "nbformat_minor": 5
}
