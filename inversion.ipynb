{
 "cells": [
  {
   "cell_type": "code",
   "execution_count": null,
   "metadata": {},
   "outputs": [
    {
     "name": "stdout",
     "output_type": "stream",
     "text": [
      "[14.88175 13.00073 12.16082 11.48172] [1.95282 0.1484  0.0771  0.0231 ]\n",
      "G = [[14.88175  1.95282]\n",
      " [13.00073  0.1484 ]\n",
      " [12.16082  0.0771 ]\n",
      " [11.48172  0.0231 ]]\n",
      "d = [116.32986 197.81669 194.49767 188.61843]\n",
      "m = [ 16.28750669 -64.67244336]\n",
      "e = [ 0.23689813 -4.33539628  1.41447826  3.10377211]\n",
      "E = 30.48593165231378\n"
     ]
    }
   ],
   "source": [
    "import numpy as np\n",
    "from numpy.linalg import inv\n",
    "from numpy.linalg import det\n",
    "import matplotlib.pyplot as plt\n",
    "#C_dis1= 3000->3010\n",
    "#C_dis2= 5000->5010\n",
    "\n",
    "C_ref = np.array([4013.67014,3331.18331,3232.50233,3157.38157])\n",
    "C_dis1 = np.array([4028.55189,3344.18404,3244.66315,3168.86329])\n",
    "C_dis2 = np.array([4015.62296,3331.33171,3232.57943,3157.40467])\n",
    "layer1 = C_dis1 - C_ref \n",
    "layer2 = C_dis2 - C_ref \n",
    "print(layer1, layer2)\n",
    "\n",
    "G = np.zeros([4, 2])\n",
    "G[:,0] = layer1\n",
    "G[:,1] = layer2\n",
    "print('G =',G)\n",
    "\n",
    "C_obs = [4130,3529,3427,3346]\n",
    "d = []\n",
    "for n in range(len(C_obs)):\n",
    "    d.append(C_obs[n] - C_ref[n])\n",
    "d = np.array(d)\n",
    "\n",
    "GT = np.transpose(G)\n",
    "GTG = GT.dot(G)\n",
    "GTG_inv = np.linalg.inv(GTG)\n",
    "print('d =',d)\n",
    "GTd = GT.dot(d)\n",
    "m = GTG_inv.dot(GTd)\n",
    "e = d - G.dot(m)\n",
    "eT = np.transpose(e)\n",
    "eTe = eT.dot(e)\n",
    "print('m =',m)\n",
    "print('e =',e)\n",
    "print('E =',eTe)"
   ]
  },
  {
   "cell_type": "code",
   "execution_count": null,
   "metadata": {},
   "outputs": [],
   "source": []
  },
  {
   "cell_type": "code",
   "execution_count": null,
   "metadata": {},
   "outputs": [],
   "source": []
  }
 ],
 "metadata": {
  "kernelspec": {
   "display_name": "myenv",
   "language": "python",
   "name": "python3"
  },
  "language_info": {
   "codemirror_mode": {
    "name": "ipython",
    "version": 3
   },
   "file_extension": ".py",
   "mimetype": "text/x-python",
   "name": "python",
   "nbconvert_exporter": "python",
   "pygments_lexer": "ipython3",
   "version": "3.8.3"
  }
 },
 "nbformat": 4,
 "nbformat_minor": 2
}
